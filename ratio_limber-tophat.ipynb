{
 "cells": [
  {
   "cell_type": "markdown",
   "id": "af159c97",
   "metadata": {},
   "source": [
    "# Top Hat Filter\n",
    "\n",
    "In this notebook we compare the ratio of $C_{\\ell}^{\\delta\\delta}$ and $C_{\\ell}^{\\delta\\kappa}$ using class and limber, and compare the results with the simple ratio expressions eq (25)\n",
    "\n",
    "\n",
    "\\begin{equation}\n",
    "C_{\\ell}^{\\delta\\kappa} = \\frac{\\ell(\\ell +1)}{(\\ell +1/2)^2}\\frac{3 H_0^2\\Omega_m(0)}{2}\\int_{z_f^{\\text{min}}}^{z_f^{\\text{max}}}\\text{d}z n_{\\text{HI}}(z)\\Sigma(z) (1+z)P_{\\delta\\delta}\\Big[ \\frac{\\ell+1/2}{\\chi(z)},z\\Big]\\int_{z_b^{\\text{min}}}^{z_b^{\\text{max}}} \\text{d}z'n_{g}(z')\\frac{\\chi(z') - \\chi(z)}{\\chi(z)\\chi(z')}\n",
    "\\end{equation}\n",
    "\n",
    "\\begin{equation}\n",
    "C_{\\ell}^{\\delta\\delta} = \\int_{z_f^{\\text{min}}}^{z_f^{\\text{max}}} \\text{d}z \\frac{H(z)}{\\chi^2(z)}n_g(z)P_{\\delta\\delta}\\Big[\\frac{\\ell +1/2}{\\chi(z)},z\\Big]\n",
    "\\end{equation}\n",
    "\n",
    "\n",
    "\\begin{equation}\n",
    "\\text{ratio} = \\frac{\\ell(\\ell+1)}{(\\ell +1/2)^2}\\frac{3 H_0^2\\Omega_m(0)}{2 H(z_f)}(1+z_f) \\frac{\\Delta z_f}{\\Delta z_b} \\chi(z_f) \\int_{z_b^{\\text{min}}}^{z_b^{\\text{max}}} \\frac{\\chi(z) - \\chi(z_f)}{\\chi(z)}\\text{d}z\n",
    "\\end{equation}\n",
    "\n",
    "\n",
    "For tophat filter we assume that $n_g(z) = 1/\\Delta z$ $\\implies \\int n_g(z)dz = 1$"
   ]
  },
  {
   "cell_type": "code",
   "execution_count": null,
   "id": "c82173af",
   "metadata": {},
   "outputs": [],
   "source": [
    "%matplotlib inline\n",
    "%config InlineBackend.figure_format = 'retina'\n",
    "import sys, platform, os\n",
    "import matplotlib\n",
    "from matplotlib import pyplot as plt\n",
    "import numpy as np\n",
    "from scipy.integrate import simps\n",
    "from scipy.interpolate import interp1d"
   ]
  },
  {
   "cell_type": "code",
   "execution_count": null,
   "id": "d91c4eaf",
   "metadata": {},
   "outputs": [],
   "source": [
    "# esthetic definitions for the plots\n",
    "font = {'size'   : 16, 'family':'sans-serif'}\n",
    "axislabelfontsize='large'\n",
    "matplotlib.rc('font', **font)\n",
    "matplotlib.mathtext.rcParams['legend.fontsize']='small'\n",
    "plt.rcParams[\"figure.figsize\"] = [8.0,6.0]"
   ]
  },
  {
   "cell_type": "markdown",
   "id": "a5970665",
   "metadata": {},
   "source": [
    "## Basic Parameters and Cosmology"
   ]
  },
  {
   "cell_type": "code",
   "execution_count": null,
   "id": "2b2bb1ec",
   "metadata": {},
   "outputs": [],
   "source": [
    "window = 'tophat'"
   ]
  },
  {
   "cell_type": "code",
   "execution_count": null,
   "id": "05ee5c1b",
   "metadata": {},
   "outputs": [],
   "source": [
    "# Set basic parameters\n",
    "kmax   = 10  #kmax to use\n",
    "zmax   = 2.0\n",
    "ellmax = 2000\n",
    "nell   = 400"
   ]
  },
  {
   "cell_type": "code",
   "execution_count": null,
   "id": "eb6897d3",
   "metadata": {},
   "outputs": [],
   "source": [
    "#Start by specifying the cosmology\n",
    "cspeed = 299792.458 # km/s\n",
    "omch2 = 0.12038\n",
    "ombh2 = 0.022032\n",
    "H0 = 67.556  # km/s/Mpc\n",
    "h = 0.67556\n",
    "A_s = 2.215e-9\n",
    "n_s = 0.9619\n",
    "tau_reion = 0.079\n",
    "neff=3.046"
   ]
  },
  {
   "cell_type": "code",
   "execution_count": null,
   "id": "2063cd0e",
   "metadata": {},
   "outputs": [],
   "source": [
    "# redshift bin 1\n",
    "mu_z1    = 0.8\n",
    "sigma_z1 = 0.11\n",
    "delta_z1 = 0.22\n",
    "# redshift bin 2\n",
    "mu_z2    = 1.2\n",
    "sigma_z2 = 0.1\n",
    "delta_z2 = 0.2"
   ]
  },
  {
   "cell_type": "code",
   "execution_count": null,
   "id": "99abe0b8",
   "metadata": {},
   "outputs": [],
   "source": [
    "ns = 4.0 # number of sigma in integration\n",
    "nz = 401 # number of steps to use for the radial/redshift integration, odd because of Simpsons rule"
   ]
  },
  {
   "cell_type": "code",
   "execution_count": null,
   "id": "799b9736",
   "metadata": {},
   "outputs": [],
   "source": [
    "def norm_gaussian(x,mu,sigma):\n",
    "    return 1.0/np.sqrt(2.0*np.pi*sigma**2)*np.exp(-0.5*(x-mu)**2/sigma**2)"
   ]
  },
  {
   "cell_type": "markdown",
   "id": "f799d5b7",
   "metadata": {},
   "source": [
    "# camb"
   ]
  },
  {
   "cell_type": "code",
   "execution_count": null,
   "id": "98f9e992",
   "metadata": {},
   "outputs": [],
   "source": [
    "\n",
    "#Assume installed from github using \"git clone --recursive https://github.com/cmbant/CAMB.git\"\n",
    "#This file is then in the docs folders\n",
    "camb_path = os.path.realpath(os.path.join(os.getcwd(),'..'))\n",
    "sys.path.insert(0,camb_path)\n",
    "import camb\n",
    "from camb import model, initialpower\n",
    "print('Using CAMB %s installed at %s'%(camb.__version__,os.path.dirname(camb.__file__)))"
   ]
  },
  {
   "cell_type": "code",
   "execution_count": null,
   "id": "805132de",
   "metadata": {},
   "outputs": [],
   "source": [
    "#Set up a new set of parameters for CAMB\n",
    "pars = camb.CAMBparams()\n",
    "\n",
    "#This function sets up CosmoMC-like settings, with one massive neutrino and helium set using BBN consistency\n",
    "pars.set_cosmology(H0 = h*100, ombh2 = ombh2, omch2 = omch2,\n",
    "                   tau=tau_reion, num_massive_neutrinos=0, mnu=0.0,standard_neutrino_neff=neff) #0.12038\n",
    "\n",
    "\n",
    "#pars.InitPower.set_params(As=2e-9, ns=0.965, r=0)\n",
    "pars.InitPower.set_params(As = A_s, ns = n_s, pivot_scalar = 0.05) #2.215e-9\n",
    "\n",
    "\n",
    "#Note non-linear corrections couples to smaller scales than you want\n",
    "#pars.set_matter_power(redshifts=[0., 0.8], kmax=2.0)\n",
    "\n",
    "#For Limber result, want integration over \\chi (comoving radial distance), from 0 to chi_*.\n",
    "#so get background results to find chistar, set up a range in chi, and calculate corresponding redshifts\n",
    "results= camb.get_background(pars)"
   ]
  },
  {
   "cell_type": "code",
   "execution_count": null,
   "id": "e20780aa",
   "metadata": {},
   "outputs": [],
   "source": [
    "#Linear spectra\n",
    "pars.NonLinear = model.NonLinear_none\n",
    "results = camb.get_results(pars)\n",
    "#s8 = np.array(results.get_sigma8())\n",
    "\n",
    "PK = camb.get_matter_power_interpolator(pars, nonlinear=False, \n",
    "    hubble_units=False, k_hunit=False, kmax=kmax, zmax=zmax,\n",
    "    var1=model.Transfer_nonu,var2=model.Transfer_nonu)"
   ]
  },
  {
   "cell_type": "markdown",
   "id": "4611502d",
   "metadata": {},
   "source": [
    "# class"
   ]
  },
  {
   "cell_type": "code",
   "execution_count": null,
   "id": "8c5f8e47",
   "metadata": {},
   "outputs": [],
   "source": [
    "from classy import Class\n",
    "\n",
    "# Define your cosmology (what is not specified will be set to CLASS default parameters)\n",
    "params = {\n",
    "    'output': 'nCl,sCl, mPk',\n",
    "    'number count contributions': 'density',\n",
    "    'selection' : window,\n",
    "    'selection_mean' : str(mu_z1)+','+str(mu_z2),\n",
    "    'selection_width' : str(delta_z1/2)+','+str(delta_z2/2),\n",
    "    'l_max_lss' : '1200',\n",
    "    'omega_b' : ombh2,\n",
    "    'omega_cdm' : omch2,\n",
    "    'h' : h,\n",
    "    'A_s' : A_s,\n",
    "    'n_s' : n_s,\n",
    "    'tau_reio' : tau_reion,\n",
    "    'N_eff': neff,\n",
    "    'YHe' : 0.24,\n",
    "    'N_ncdm' : 0,\n",
    "    'l_switch_limber_for_nc_local_over_z' : '2',\n",
    "    'l_switch_limber_for_nc_los_over_z' :'2',\n",
    "    'non_diagonal' : '1',\n",
    "    'z_max_pk':zmax\n",
    "}\n",
    "\n",
    "k_max = 1;\n",
    "\n",
    "#Initialize the cosmology andcompute everything\n",
    "cosmo = Class()\n",
    "cosmo.set(params)\n",
    "\n",
    "\n",
    "\n",
    "cosmo.compute()\n",
    "#Specify k and z\n",
    "k = np.logspace(-5, np.log10(k_max), num=1000) #Mpc^-1\n",
    "\n",
    "#Call these for the nonlinear and linear matter power spectra\n",
    "Plin = np.array([cosmo.pk_lin(ki, 0) for ki in k])\n",
    "\n",
    "Plin_z0_intp = interp1d(k,np.array([cosmo.pk_lin(ki, 0) for ki in k]),kind='cubic')\n",
    "\n",
    "\n",
    "\n",
    "\n",
    "background  = cosmo.get_background()\n",
    "# comivng distance is in units Mpc\n",
    "comoving_dist = background['comov. dist.']\n",
    "ztab = background['z']\n",
    "\n",
    "# interpolation function of comoving distance\n",
    "comoving_dist_intp = interp1d(ztab,comoving_dist,kind='cubic')\n",
    "\n",
    "Hubble = background['H [1/Mpc]']\n",
    "Hubble_intp = interp1d(ztab,Hubble,kind='cubic')\n",
    "\n",
    "growth_factor = background['gr.fac. D']\n",
    "growth_factor_intp = interp1d(ztab,growth_factor,kind='cubic')"
   ]
  },
  {
   "cell_type": "markdown",
   "id": "417b0623",
   "metadata": {},
   "source": [
    "# $P_{\\text{lin}}$  Comparison"
   ]
  },
  {
   "cell_type": "code",
   "execution_count": null,
   "id": "416d774b",
   "metadata": {},
   "outputs": [],
   "source": [
    "plt.xscale('log');\n",
    "plt.yscale('log');\n",
    "plt.plot(k, Plin_z0_intp(k), label='CLASS', linewidth=3)\n",
    "#plt.plot(kh, pk[0,:], color='k', ls = line,label=\"CAMB\",)\n",
    "plt.plot(k,PK.P(0, k), color='r',label=\"CAMB\",ls = 'dotted', linewidth=5)\n",
    "plt.xlabel('k/h Mpc');\n",
    "plt.ylabel('$P_{\\text{lin}} [ h^3 Mpc^{-3}]$')\n",
    "plt.grid()\n",
    "plt.legend()\n"
   ]
  },
  {
   "cell_type": "markdown",
   "id": "4fc0dbd9",
   "metadata": {},
   "source": [
    "## compute class $C_{\\ell}$"
   ]
  },
  {
   "cell_type": "code",
   "execution_count": null,
   "id": "1513d273",
   "metadata": {},
   "outputs": [],
   "source": [
    "cls_dd_class=cosmo.density_cl(1000)\n",
    "\n",
    "ll = cls_dd_class['ell']\n",
    "\n",
    "cls_dd_class['dd']\n",
    "\n",
    "cls_dd_class['dl']"
   ]
  },
  {
   "cell_type": "markdown",
   "id": "215c56b8",
   "metadata": {},
   "source": [
    "## Compute camb $C_{\\ell}$"
   ]
  },
  {
   "cell_type": "code",
   "execution_count": null,
   "id": "671f9c27",
   "metadata": {},
   "outputs": [],
   "source": [
    "#Get angular power spectrum for galaxy number counts and lensing\n",
    "from camb.sources import GaussianSourceWindow, SplinedSourceWindow"
   ]
  },
  {
   "cell_type": "code",
   "execution_count": null,
   "id": "93345a89",
   "metadata": {},
   "outputs": [],
   "source": [
    "pars.set_for_lmax(ellmax, lens_potential_accuracy=2)\n",
    "#set Want_CMB to true if you also want CMB spectra or correlations\n",
    "pars.Want_CMB = False \n",
    "#NonLinear_both or NonLinear_lens will use non-linear corrections\n",
    "#pars.NonLinear = model.NonLinear_both\n",
    "pars.NonLinear = model.NonLinear_none\n",
    "#Set up W(z) window functions, later labelled W1, W2. Gaussian here.\n",
    "pars.SourceWindows = [\n",
    "    GaussianSourceWindow(redshift=mu_z1, source_type='counts', bias=1.0, sigma=sigma_z1, dlog10Ndm=0.4),\n",
    "    GaussianSourceWindow(redshift=mu_z2, source_type='lensing', sigma=sigma_z2)]"
   ]
  },
  {
   "cell_type": "code",
   "execution_count": null,
   "id": "25708359",
   "metadata": {},
   "outputs": [],
   "source": [
    "# set up camb ell array\n",
    "l_camb  = np.arange(2, ellmax+1)\n",
    "# compute C_l and extract from resulting dictionary\n",
    "results = camb.get_results(pars)\n",
    "cls     = results.get_source_cls_dict()\n",
    "#\n",
    "cltmp   = cls['W1xW2']\n",
    "cl_dk   = cltmp[2:ellmax+1]/(l_camb*(l_camb+1.0))*(2.0*np.pi)\n",
    "#\n",
    "cltmp   = cls['W1xW1']\n",
    "cl_dd   = cltmp[2:ellmax+1]/(l_camb*(l_camb+1.0))*(2.0*np.pi)"
   ]
  },
  {
   "cell_type": "code",
   "execution_count": null,
   "id": "c907e5c3",
   "metadata": {},
   "outputs": [],
   "source": [
    "#plt.plot(l_camb,cl_dd, label='camb', linewidth=3)\n",
    "#plt.plot(ll[2:],cls_dd_class['dd'][0][2:], label='class')\n",
    "#plt.xscale('log')\n",
    "#plt.yscale('log')\n",
    "#plt.legend()\n",
    "#plt.ylabel(r'$C_{\\ell}^{\\delta\\delta}$', fontsize=18)\n",
    "#plt.xlabel(r'$\\ell$')"
   ]
  },
  {
   "cell_type": "code",
   "execution_count": null,
   "id": "a34a9a13",
   "metadata": {},
   "outputs": [],
   "source": [
    "#plt.plot(l_camb,cl_dk, label='camb', linewidth=3, color='r')\n",
    "#plt.plot(ll[2:],(ll[2:]*(ll[2:]+1))*cls_dd_class['dl'][1][2:]/2, label='class', color='k')\n",
    "#plt.xscale('log')\n",
    "#plt.yscale('log')\n",
    "#plt.legend()\n",
    "#plt.ylabel(r'$C_{\\ell}^{\\delta\\kappa}$', fontsize=18)\n",
    "#plt.xlabel(r'$\\ell$')"
   ]
  },
  {
   "cell_type": "markdown",
   "id": "5a10cd74",
   "metadata": {},
   "source": [
    "# Limber"
   ]
  },
  {
   "cell_type": "markdown",
   "id": "a3a55c99",
   "metadata": {},
   "source": [
    "## Compute Limber approximations"
   ]
  },
  {
   "cell_type": "code",
   "execution_count": null,
   "id": "2da4915a",
   "metadata": {},
   "outputs": [],
   "source": [
    "# set up redshift arrays in the two redshift bins\n",
    "z1  = np.linspace(mu_z1-delta_z1/2,mu_z1+delta_z1/2,num=nz,endpoint=True)\n",
    "z2  = np.linspace(mu_z2-delta_z2/2,mu_z2+delta_z2/2,num=nz,endpoint=True)\n",
    "# set up ell-array for limber\n",
    "l_limber = np.linspace(2,ellmax,nell)\n"
   ]
  },
  {
   "cell_type": "code",
   "execution_count": null,
   "id": "bab85f25",
   "metadata": {},
   "outputs": [],
   "source": [
    "# compute often used quantities once\n",
    "\n",
    "#class\n",
    "chi_z1    = comoving_dist_intp(z1) # returns comoving radial distance chi in Mpc\n",
    "chi_z2    = comoving_dist_intp(z2) # returns comoving radial distance chi in Mpc\n",
    "Hub_z1    =  Hubble_intp(z1)*cspeed\n",
    "\n",
    "# Gaussian window functions\n",
    "#W_z1      = norm_gaussian(z1,mu_z1,sigma_z1)\n",
    "#W_z2      = norm_gaussian(z2,mu_z2,sigma_z2)\n",
    "\n",
    "# tophat window functions\n",
    "#W_z1  = (1/delta_z1)\n",
    "#W_z2  = (1/delta_z2)\n",
    "W_z1  = 1\n",
    "W_z2  = 1\n",
    "\n",
    "\n",
    "#\n",
    "limber_ell_factor = (1.0+l_limber)*l_limber/(0.5+l_limber)**2 # we could simply set this to 1 w/o significant impact"
   ]
  },
  {
   "cell_type": "code",
   "execution_count": null,
   "id": "4241ae98",
   "metadata": {},
   "outputs": [],
   "source": []
  },
  {
   "cell_type": "code",
   "execution_count": null,
   "id": "917fe80e",
   "metadata": {},
   "outputs": [],
   "source": [
    "plt.plot(z1, Hubble_intp(z1)*cspeed, label = 'class', linestyle='dashed', linewidth=2.5)\n",
    "plt.plot(z1,  results.hubble_parameter(z1),label = 'camb' )\n",
    "plt.legend()\n",
    "plt.xlabel('z')\n",
    "plt.ylabel(r'$H(z)$')"
   ]
  },
  {
   "cell_type": "code",
   "execution_count": null,
   "id": "2aef0553",
   "metadata": {},
   "outputs": [],
   "source": [
    "# Limber approximation for delta(z1)-kappa(z2) cross, our Eq. (20)\n",
    "resarr_dk = np.zeros(np.size(l_limber))\n",
    "#\n",
    "for il, ell in enumerate(l_limber):\n",
    "    Pkz = np.zeros(np.size(z1))\n",
    "    res = np.zeros(np.size(z1))\n",
    "    for nz, iz in enumerate(z1):\n",
    "        kz      = (0.5+ell)/chi_z1[nz]\n",
    "        Pkz[nz] = PK.P(iz, kz, grid=False)\n",
    "        #Pkz[nz] = cosmo.pk_lin(kz, 0)*(growth_factor_intp(iz)**2)\n",
    "        res[nz] = W_z1*(1.0+z1[nz])*Pkz[nz]*simps(W_z2*(chi_z2-chi_z1[nz])/(chi_z2*chi_z1[nz]),x=z2)\n",
    "    resarr_dk[il] = simps(res,x=z1)\n",
    "resarr_dk = resarr_dk*limber_ell_factor*1.5*(omch2+ombh2)*100.0**2/cspeed**2"
   ]
  },
  {
   "cell_type": "code",
   "execution_count": null,
   "id": "dcfd4802",
   "metadata": {},
   "outputs": [],
   "source": [
    "# Limber approximation for delta(z1)-delta(z1), our Eq. (21)\n",
    "resarr_dd = np.zeros(np.size(l_limber))\n",
    "#\n",
    "for il, ell in enumerate(l_limber):\n",
    "    Pkz    = np.zeros(np.size(z1))\n",
    "    for nz, iz in enumerate(z1):\n",
    "        kz      = (0.5+ell)/chi_z1[nz]\n",
    "        Pkz[nz] = PK.P(iz, kz, grid=False)\n",
    "        #Pkz[nz] = cosmo.pk_lin(kz, 0)*(growth_factor_intp(iz)**2)\n",
    "    resarr_dd[il] = simps(Hub_z1/cspeed/chi_z1**2*W_z1**2*Pkz,x=z1)"
   ]
  },
  {
   "cell_type": "markdown",
   "id": "6a196af9",
   "metadata": {},
   "source": [
    "## plots : theory, camb, class"
   ]
  },
  {
   "cell_type": "markdown",
   "id": "a8482b15",
   "metadata": {},
   "source": [
    "### $C_{\\ell}^{\\delta\\delta}$"
   ]
  },
  {
   "cell_type": "code",
   "execution_count": null,
   "id": "12a9f222",
   "metadata": {},
   "outputs": [],
   "source": [
    "#plt.plot(l_camb,cl_dd, label='camb', linewidth=3)\n",
    "plt.plot(ll[2:],cls_dd_class['dd'][0][2:], label='class', color='r')\n",
    "plt.plot(l_limber,resarr_dd, label='limber theory',linestyle='dashed', color='k', linewidth=2)\n",
    "\n",
    "plt.xscale('log')\n",
    "plt.yscale('log')\n",
    "plt.legend()\n",
    "plt.ylabel(r'$C_{\\ell}^{\\delta\\delta}$', fontsize=18)\n",
    "plt.xlabel(r'$\\ell$')"
   ]
  },
  {
   "cell_type": "markdown",
   "id": "e21a622f",
   "metadata": {},
   "source": [
    "### $C_{\\ell}^{\\delta\\kappa}$"
   ]
  },
  {
   "cell_type": "code",
   "execution_count": null,
   "id": "cbc1f5b0",
   "metadata": {},
   "outputs": [],
   "source": [
    "\n",
    "#plt.plot(l_camb,cl_dk, label='camb', linewidth=3)\n",
    "plt.plot(ll[2:],(ll[2:]*(ll[2:]+1))*cls_dd_class['dl'][1][2:]/2, label='class', color='r')\n",
    "\n",
    "plt.plot(l_limber,resarr_dk, label='limber theory',linestyle='dashed', color='k', linewidth=2)\n",
    "\n",
    "plt.xscale('log')\n",
    "plt.yscale('log')\n",
    "plt.legend()\n",
    "plt.ylabel(r'$C_{\\ell}^{\\delta\\kappa}$', fontsize=18)\n",
    "plt.xlabel(r'$\\ell$')"
   ]
  },
  {
   "cell_type": "markdown",
   "id": "67065f6d",
   "metadata": {},
   "source": [
    "## relative difference $\\Delta C_{\\ell}^{\\delta\\delta}/C_{\\ell}^{\\delta\\delta}$\n",
    "\n",
    "- theory & class\n",
    "- camb & class"
   ]
  },
  {
   "cell_type": "code",
   "execution_count": null,
   "id": "67c85020",
   "metadata": {},
   "outputs": [],
   "source": [
    "# set up interpolation function for camb result as Limber integration has different ell\n",
    "#cl_dd_f = interp1d(l_camb,cl_dd,kind='cubic')\n",
    "\n",
    "cl_dd_limber_f = interp1d(l_limber,resarr_dd,kind='cubic')\n",
    "\n",
    "\n",
    "#plt.plot(ll[2:], np.abs((cls_dd_class['dd'][0][2:]-cl_dd_f(ll[2:]))/cls_dd_class['dd'][0][2:]), label = 'camb & class',linewidth=2.5)\n",
    "plt.plot(ll[2:], np.abs((cls_dd_class['dd'][0][2:]-cl_dd_limber_f(ll[2:]))/cls_dd_class['dd'][0][2:]), label = 'limber & class',linewidth=2.5)\n",
    "\n",
    "\n",
    "plt.xlabel(r'$\\ell$', fontsize=18)\n",
    "plt.ylabel(r'$\\Delta C_{\\ell}^{\\delta\\delta}/C_{\\ell}^{\\delta\\delta}$', fontsize=18)\n",
    "plt.xscale('log')\n",
    "plt.yscale('log')\n",
    "plt.legend()\n",
    "plt.grid()"
   ]
  },
  {
   "cell_type": "markdown",
   "id": "6d7c5a6c",
   "metadata": {},
   "source": [
    "## relative difference $\\Delta C_{\\ell}^{\\delta\\kappa}/C_{\\ell}^{\\delta\\kappa}$\n",
    "\n",
    "- theory & class\n",
    "- camb & class"
   ]
  },
  {
   "cell_type": "code",
   "execution_count": null,
   "id": "f649ede0",
   "metadata": {},
   "outputs": [],
   "source": [
    "\n",
    "\n",
    "#cl_dk_f = interp1d(l_camb,cl_dk,kind='cubic')\n",
    "cl_dk_class = (ll[2:]*(ll[2:]+1))*cls_dd_class['dl'][1][2:]/2\n",
    "cl_dk_limber_f = interp1d(l_limber,resarr_dk,kind='cubic')\n",
    "\n",
    "\n",
    "#plt.plot(ll[2:], np.abs((cl_dk_class-cl_dk_f(ll[2:]))/cl_dk_class), label = 'camb & class', linewidth=2.5)\n",
    "plt.plot(ll[2:], np.abs((cl_dk_class-cl_dk_limber_f(ll[2:]))/cl_dk_class), label = 'limber & class',linewidth=2.5)\n",
    "\n",
    "\n",
    "plt.xlabel(r'$\\ell$', fontsize=18)\n",
    "plt.ylabel(r'$\\Delta C_{\\ell}^{\\delta\\kappa}/C_{\\ell}^{\\delta\\kappa}$', fontsize=18)\n",
    "plt.xscale('log')\n",
    "plt.yscale('log')\n",
    "plt.legend()\n",
    "plt.grid()"
   ]
  },
  {
   "cell_type": "markdown",
   "id": "2a57d953",
   "metadata": {},
   "source": [
    "## Ratio: $C_{\\ell}^{\\delta\\kappa}/C_{\\ell}^{\\delta\\delta}$"
   ]
  },
  {
   "cell_type": "code",
   "execution_count": null,
   "id": "7117734e",
   "metadata": {},
   "outputs": [],
   "source": [
    "cl_dd_class  = cls_dd_class['dd'][0][2:]\n",
    "\n",
    "\n",
    "# compute ratios and set ell-arrays\n",
    "#ratio_camb   = cl_dk/cl_dd\n",
    "ratio_limber = resarr_dk/resarr_dd\n",
    "ratio_class = cl_dk_class / cl_dd_class\n",
    "\n",
    "\n",
    "# interpolation\n",
    "#ratio_camb_f = interp1d(l_camb,cl_dk/cl_dd,kind='cubic')\n",
    "ratio_limber_f = interp1d(l_limber,resarr_dk/resarr_dd,kind='cubic')\n",
    "ratio_class_f = interp1d(ll[2:],cl_dk_class / cl_dd_class,kind='cubic')"
   ]
  },
  {
   "cell_type": "code",
   "execution_count": null,
   "id": "1451ab1d",
   "metadata": {},
   "outputs": [],
   "source": [
    "#plt.plot(l_camb,ratio_camb, color='b',label='camb ratio')\n",
    "plt.plot(l_limber,ratio_limber,color='r',label='Limber ratio')\n",
    "\n",
    "plt.plot(ll[2:],ratio_class,color='g',label='class ratio')\n",
    "plt.xlabel('$\\ell$')\n",
    "plt.ylabel('$C_\\ell^{\\delta\\kappa}/C_\\ell^{\\delta\\delta}$')\n",
    "plt.legend()\n",
    "plt.xscale('log')\n",
    "plt.grid()"
   ]
  },
  {
   "cell_type": "code",
   "execution_count": null,
   "id": "a486ae4f",
   "metadata": {},
   "outputs": [],
   "source": [
    "plt.plot(ll[2:], np.abs(ratio_class_f(ll[2:]) - ratio_limber_f(ll[2:]))/ratio_class_f(ll[2:]), label = 'class & limber', linewidth=2.5, color='r')\n",
    "#plt.plot(ll[2:], np.abs(ratio_camb_f(ll[2:]) - ratio_limber_f(ll[2:]))/ratio_camb_f(ll[2:]), label = 'camb & limber',linewidth=2.5, color='g')\n",
    "\n",
    "#plt.plot(ll[2:], np.abs(ratio_camb_f(ll[2:]) - ratio_class_f(ll[2:]))/ratio_class_f(ll[2:]), label = 'camb & class',linewidth=2.5, color='b')\n",
    "\n",
    "\n",
    "\n",
    "plt.legend()\n",
    "plt.grid()\n",
    "plt.xscale('log')\n",
    "plt.yscale('log')\n",
    "plt.xlabel('$\\ell$')\n",
    "plt.ylabel('relative error in ratios')"
   ]
  },
  {
   "cell_type": "markdown",
   "id": "5b70cc7f",
   "metadata": {},
   "source": [
    "\\begin{equation}\n",
    "C_{\\ell}^{\\delta\\kappa} = \\frac{\\ell(\\ell +1)}{(\\ell +1/2)^2}\\frac{3 H_0^2\\Omega_m(0)}{2}\\int_{z_f^{\\text{min}}}^{z_f^{\\text{max}}}\\text{d}z n_{\\text{HI}}(z)\\Sigma(z) (1+z)P_{\\delta\\delta}\\Big[ \\frac{\\ell+1/2}{\\chi(z)},z\\Big]\\int_{z_b^{\\text{min}}}^{z_b^{\\text{max}}} \\text{d}z'n_{g}(z')\\frac{\\chi(z') - \\chi(z)}{\\chi(z)\\chi(z')}\n",
    "\\end{equation}\n",
    "\n",
    "\n",
    "## Ratio\n",
    "\n",
    "\n",
    "\\begin{equation}\n",
    "\\text{ratio} = \\frac{\\ell(\\ell+1)}{(\\ell +1/2)^2}\\frac{3 H_0^2\\Omega_m(0)}{2 H(z_f)}(1+z_f) \\frac{\\Delta z_f}{\\Delta z_b} \\chi(z_f) \\int_{z_b^{\\text{min}}}^{z_b^{\\text{max}}} \\frac{\\chi(z) - \\chi(z_f)}{\\chi(z)}\\text{d}z\n",
    "\\end{equation}"
   ]
  },
  {
   "cell_type": "code",
   "execution_count": null,
   "id": "0e2f6786",
   "metadata": {},
   "outputs": [],
   "source": [
    "import scipy.integrate as integrate\n",
    "\n",
    "def integrand(z, zf):\n",
    "    return (comoving_dist_intp(z)-comoving_dist_intp(zf))/comoving_dist_intp(z)\n",
    "\n",
    "\n",
    "#def ratio(zf,zb,deltazf, deltazb):\n",
    "#    res = integrate.quad(lambda z: integrand(z, zf), zb-deltazb/2, zb+deltazb/2)[0]\n",
    "#    \n",
    "#    res = (3*Hubble_intp(0)**2*Omega_m0*(1+zf)/(2*Hubble_intp(zf)))*((deltazf/deltazb))*res*comoving_dist_intp(zf)\n",
    "#    res = (ll*(ll+1))/((ll+1/2)**2)*res\n",
    "#    \n",
    "#    return res\n",
    "Hub1 = Hubble_intp(mu_z1)\n",
    "\n",
    "res =  1.5*(omch2+ombh2)*100.0**2/(cspeed*Hub1*cspeed)*(1.0+mu_z1)* (delta_z1/delta_z2)\n",
    "res = res*comoving_dist_intp(mu_z1)\n",
    "ratio = res * integrate.quad(lambda z: integrand(z, mu_z1), mu_z2-delta_z2/2, mu_z2+delta_z2/2)[0]\n"
   ]
  },
  {
   "cell_type": "code",
   "execution_count": null,
   "id": "e9944050",
   "metadata": {},
   "outputs": [],
   "source": [
    "\n",
    "\n",
    "plt.plot(ll, ratio*np.ones(np.size(ll)) , label='simple ratio', color='r', linestyle='dashed')\n",
    "plt.plot(l_limber,ratio_limber,label='Limber ratio')\n",
    "\n",
    "plt.plot(ll[2:],ratio_class,color='g',label='class ratio')\n",
    "plt.xlabel('$\\ell$')\n",
    "plt.ylabel('$C_\\ell^{\\delta\\kappa}/C_\\ell^{\\delta\\delta}$')\n",
    "plt.legend()\n",
    "plt.xscale('log')\n",
    "plt.grid()"
   ]
  },
  {
   "cell_type": "code",
   "execution_count": null,
   "id": "7bd8fe90",
   "metadata": {},
   "outputs": [],
   "source": [
    "ratio_simple_f = interp1d(ll,ratio*np.ones(np.size(ll)),kind='cubic')"
   ]
  },
  {
   "cell_type": "code",
   "execution_count": null,
   "id": "3f310d8f",
   "metadata": {},
   "outputs": [],
   "source": [
    "plt.plot(ll[2:], np.abs(ratio_class_f(ll[2:]) - ratio_limber_f(ll[2:]))/ratio_class_f(ll[2:]), label = 'limber', linewidth=2.5, color='r')\n",
    "plt.plot(ll[2:], np.abs(ratio_class_f(ll[2:]) - ratio_simple_f(ll[2:]))/ratio_class_f(ll[2:]), label = 'simple ratio', linewidth=2.5, color='b')\n",
    "\n",
    "\n",
    "plt.title(r'$z_1 = $'+str(mu_z1)+', $z_1$ = '+str(mu_z2)+', $2\\sigma z_1 = $ '+ str(2*sigma_z1)+', $2\\sigma z_2 = $ '+ str(2*sigma_z2))\n",
    "\n",
    "plt.legend()\n",
    "plt.grid()\n",
    "plt.xscale('log')\n",
    "#plt.yscale('log')\n",
    "plt.xlabel('$\\ell$')\n",
    "plt.ylabel('relative error in ratios')"
   ]
  },
  {
   "cell_type": "code",
   "execution_count": null,
   "id": "67b02488",
   "metadata": {},
   "outputs": [],
   "source": []
  },
  {
   "cell_type": "code",
   "execution_count": null,
   "id": "0ae1d211",
   "metadata": {},
   "outputs": [],
   "source": []
  },
  {
   "cell_type": "code",
   "execution_count": null,
   "id": "87f62b19",
   "metadata": {},
   "outputs": [],
   "source": []
  }
 ],
 "metadata": {
  "kernelspec": {
   "display_name": "Python 3 (ipykernel)",
   "language": "python",
   "name": "python3"
  },
  "language_info": {
   "codemirror_mode": {
    "name": "ipython",
    "version": 3
   },
   "file_extension": ".py",
   "mimetype": "text/x-python",
   "name": "python",
   "nbconvert_exporter": "python",
   "pygments_lexer": "ipython3",
   "version": "3.7.9"
  }
 },
 "nbformat": 4,
 "nbformat_minor": 5
}
